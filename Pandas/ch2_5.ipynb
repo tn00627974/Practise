{
 "cells": [
  {
   "cell_type": "code",
   "execution_count": 17,
   "metadata": {},
   "outputs": [
    {
     "name": "stdout",
     "output_type": "stream",
     "text": [
      "  name  population city\n",
      "0  中正區      159598  台北市\n",
      "1  板橋區      551452  新北市\n",
      "2  桃園區      441287  桃園市\n",
      "3  北屯區      275207  台中市\n",
      "4  安南區      192327  台南市\n",
      "(13, 3)\n"
     ]
    }
   ],
   "source": [
    "import pandas as pd\n",
    "df = pd.read_csv(\"dists.csv\", encoding=\"utf8\")\n",
    "print(df.head())  # 印出前五筆資料\n",
    "print(df.shape)  # 印出資料的形狀 (13, 3)"
   ]
  },
  {
   "cell_type": "code",
   "execution_count": 43,
   "metadata": {},
   "outputs": [
    {
     "name": "stdout",
     "output_type": "stream",
     "text": [
      "     name  population\n",
      "city                 \n",
      "台北市   中正區      159598\n",
      "新北市   板橋區      551452\n",
      "桃園市   桃園區      441287\n",
      "台中市   北屯區      275207\n",
      "台南市   安南區      192327\n",
      "---------------------------\n",
      "   city name  population\n",
      "0   台北市  中正區      159598\n",
      "1   新北市  板橋區      551452\n",
      "2   桃園市  桃園區      441287\n",
      "3   台中市  北屯區      275207\n",
      "4   台南市  安南區      192327\n",
      "5   高雄市  三民區      343203\n",
      "6   台北市  大安區      309835\n",
      "7   新北市  永和區      222531\n",
      "8   桃園市  八德區      198473\n",
      "9   高雄市  前鎮區      189623\n",
      "10  高雄市  鳳山區      359125\n",
      "11  台北市  信義區      225561\n",
      "12  新北市  新店區      302070\n"
     ]
    }
   ],
   "source": [
    "df2 = df.set_index(\"city\") # 將 \"city\" 列作為索引\n",
    "print(df2.head())\n",
    "print(\"---------------------------\")\n",
    "df3 =df2.reset_index() # 重設索引\n",
    "print(df3)\n",
    "# df3 = df2.reset_index()\n",
    "# print(df3.head())"
   ]
  },
  {
   "cell_type": "code",
   "execution_count": 50,
   "metadata": {},
   "outputs": [
    {
     "data": {
      "text/html": [
       "<div>\n",
       "<style scoped>\n",
       "    .dataframe tbody tr th:only-of-type {\n",
       "        vertical-align: middle;\n",
       "    }\n",
       "\n",
       "    .dataframe tbody tr th {\n",
       "        vertical-align: top;\n",
       "    }\n",
       "\n",
       "    .dataframe thead th {\n",
       "        text-align: right;\n",
       "    }\n",
       "</style>\n",
       "<table border=\"1\" class=\"dataframe\">\n",
       "  <thead>\n",
       "    <tr style=\"text-align: right;\">\n",
       "      <th></th>\n",
       "      <th></th>\n",
       "      <th>population</th>\n",
       "    </tr>\n",
       "    <tr>\n",
       "      <th>city</th>\n",
       "      <th>name</th>\n",
       "      <th></th>\n",
       "    </tr>\n",
       "  </thead>\n",
       "  <tbody>\n",
       "    <tr>\n",
       "      <th rowspan=\"3\" valign=\"top\">高雄市</th>\n",
       "      <th>鳳山區</th>\n",
       "      <td>359125</td>\n",
       "    </tr>\n",
       "    <tr>\n",
       "      <th>前鎮區</th>\n",
       "      <td>189623</td>\n",
       "    </tr>\n",
       "    <tr>\n",
       "      <th>三民區</th>\n",
       "      <td>343203</td>\n",
       "    </tr>\n",
       "    <tr>\n",
       "      <th rowspan=\"2\" valign=\"top\">桃園市</th>\n",
       "      <th>桃園區</th>\n",
       "      <td>441287</td>\n",
       "    </tr>\n",
       "    <tr>\n",
       "      <th>八德區</th>\n",
       "      <td>198473</td>\n",
       "    </tr>\n",
       "    <tr>\n",
       "      <th rowspan=\"3\" valign=\"top\">新北市</th>\n",
       "      <th>永和區</th>\n",
       "      <td>222531</td>\n",
       "    </tr>\n",
       "    <tr>\n",
       "      <th>板橋區</th>\n",
       "      <td>551452</td>\n",
       "    </tr>\n",
       "    <tr>\n",
       "      <th>新店區</th>\n",
       "      <td>302070</td>\n",
       "    </tr>\n",
       "    <tr>\n",
       "      <th>台南市</th>\n",
       "      <th>安南區</th>\n",
       "      <td>192327</td>\n",
       "    </tr>\n",
       "    <tr>\n",
       "      <th rowspan=\"3\" valign=\"top\">台北市</th>\n",
       "      <th>大安區</th>\n",
       "      <td>309835</td>\n",
       "    </tr>\n",
       "    <tr>\n",
       "      <th>信義區</th>\n",
       "      <td>225561</td>\n",
       "    </tr>\n",
       "    <tr>\n",
       "      <th>中正區</th>\n",
       "      <td>159598</td>\n",
       "    </tr>\n",
       "    <tr>\n",
       "      <th>台中市</th>\n",
       "      <th>北屯區</th>\n",
       "      <td>275207</td>\n",
       "    </tr>\n",
       "  </tbody>\n",
       "</table>\n",
       "</div>"
      ],
      "text/plain": [
       "           population\n",
       "city name            \n",
       "高雄市  鳳山區       359125\n",
       "     前鎮區       189623\n",
       "     三民區       343203\n",
       "桃園市  桃園區       441287\n",
       "     八德區       198473\n",
       "新北市  永和區       222531\n",
       "     板橋區       551452\n",
       "     新店區       302070\n",
       "台南市  安南區       192327\n",
       "台北市  大安區       309835\n",
       "     信義區       225561\n",
       "     中正區       159598\n",
       "台中市  北屯區       275207"
      ]
     },
     "execution_count": 50,
     "metadata": {},
     "output_type": "execute_result"
    }
   ],
   "source": [
    "df2 = df.set_index([\"city\",\"name\"]) #以 city 和 name 為索引\n",
    "df2.sort_index(ascending=False,inplace=True)  # ascending 參數為 False 代表重新排序索引 (由大到小) , inplace 參數為 True 代表直接修改原本的 DataFrame\n",
    "df2"
   ]
  }
 ],
 "metadata": {
  "kernelspec": {
   "display_name": "ai_project",
   "language": "python",
   "name": "ai_project"
  },
  "language_info": {
   "codemirror_mode": {
    "name": "ipython",
    "version": 3
   },
   "file_extension": ".py",
   "mimetype": "text/x-python",
   "name": "python",
   "nbconvert_exporter": "python",
   "pygments_lexer": "ipython3",
   "version": "3.8.18"
  }
 },
 "nbformat": 4,
 "nbformat_minor": 2
}
