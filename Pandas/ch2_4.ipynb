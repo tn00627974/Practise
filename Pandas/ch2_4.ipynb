{
 "cells": [
  {
   "cell_type": "code",
   "execution_count": 1,
   "metadata": {},
   "outputs": [],
   "source": [
    "import pandas as pd\n",
    "\n",
    "dists = {\"name\": [\"中正區\", \"板橋區\", \"桃園區\", \"北屯區\", \n",
    "                   \"安南區\", \"三民區\", \"大安區\", \"永和區\", \n",
    "                   \"八德區\", \"前鎮區\", \"鳳山區\", \n",
    "                   \"信義區\", \"新店區\"],\n",
    "         \"population\": [159598, 551452, 441287, 275207,\n",
    "                        192327, 343203, 309835, 222531,\n",
    "                        198473, 189623, 359125, \n",
    "                        225561, 302070],\n",
    "         \"city\": [\"台北市\", \"新北市\", \"桃園市\", \"台中市\",\n",
    "                  \"台南市\", \"高雄市\", \"台北市\", \"新北市\",\n",
    "                  \"桃園市\", \"高雄市\", \"高雄市\",\n",
    "                  \"台北市\", \"新北市\"]}\n",
    "df = pd.DataFrame(dists) \n",
    "\n",
    "df.to_csv(\"dists.csv\", index=False, encoding=\"utf8\")\n",
    "df.to_json(\"dists.json\")"
   ]
  },
  {
   "cell_type": "code",
   "execution_count": 2,
   "metadata": {},
   "outputs": [
    {
     "name": "stdout",
     "output_type": "stream",
     "text": [
      "   name  population city\n",
      "0   中正區      159598  台北市\n",
      "1   板橋區      551452  新北市\n",
      "2   桃園區      441287  桃園市\n",
      "3   北屯區      275207  台中市\n",
      "4   安南區      192327  台南市\n",
      "5   三民區      343203  高雄市\n",
      "6   大安區      309835  台北市\n",
      "7   永和區      222531  新北市\n",
      "8   八德區      198473  桃園市\n",
      "9   前鎮區      189623  高雄市\n",
      "10  鳳山區      359125  高雄市\n",
      "11  信義區      225561  台北市\n",
      "12  新店區      302070  新北市\n",
      "---------------------------\n",
      "   name  population city\n",
      "0   中正區      159598  台北市\n",
      "1   板橋區      551452  新北市\n",
      "2   桃園區      441287  桃園市\n",
      "3   北屯區      275207  台中市\n",
      "4   安南區      192327  台南市\n",
      "5   三民區      343203  高雄市\n",
      "6   大安區      309835  台北市\n",
      "7   永和區      222531  新北市\n",
      "8   八德區      198473  桃園市\n",
      "9   前鎮區      189623  高雄市\n",
      "10  鳳山區      359125  高雄市\n",
      "11  信義區      225561  台北市\n",
      "12  新店區      302070  新北市\n"
     ]
    }
   ],
   "source": [
    "# 匯入CSV格式的檔案\n",
    "df = pd.read_csv(\"dists.csv\", encoding=\"utf8\")\n",
    "print(df)\n",
    "df.to_html(\"ch2_4.html\")\n",
    "print(\"---------------------------\")\n",
    "# 匯入JSON格式的檔案\n",
    "df2 = pd.read_json(\"dists.json\")\n",
    "print(df2)\n",
    "df2.to_html(\"ch2_4_json.html\")"
   ]
  },
  {
   "cell_type": "code",
   "execution_count": 3,
   "metadata": {},
   "outputs": [
    {
     "name": "stdout",
     "output_type": "stream",
     "text": [
      "  name  population city\n",
      "0  中正區      159598  台北市\n",
      "1  板橋區      551452  新北市\n",
      "2  桃園區      441287  桃園市\n",
      "3  北屯區      275207  台中市\n",
      "4  安南區      192327  台南市\n"
     ]
    }
   ],
   "source": [
    "print(df.head(5)) # print the first 5 rows of the dataframe"
   ]
  },
  {
   "cell_type": "code",
   "execution_count": 4,
   "metadata": {},
   "outputs": [
    {
     "name": "stdout",
     "output_type": "stream",
     "text": [
      "   name  population city\n",
      "8   八德區      198473  桃園市\n",
      "9   前鎮區      189623  高雄市\n",
      "10  鳳山區      359125  高雄市\n",
      "11  信義區      225561  台北市\n",
      "12  新店區      302070  新北市\n"
     ]
    }
   ],
   "source": [
    "print(df.tail(5)) # last 5 rows"
   ]
  },
  {
   "cell_type": "code",
   "execution_count": 5,
   "metadata": {},
   "outputs": [
    {
     "data": {
      "text/html": [
       "<div>\n",
       "<style scoped>\n",
       "    .dataframe tbody tr th:only-of-type {\n",
       "        vertical-align: middle;\n",
       "    }\n",
       "\n",
       "    .dataframe tbody tr th {\n",
       "        vertical-align: top;\n",
       "    }\n",
       "\n",
       "    .dataframe thead th {\n",
       "        text-align: right;\n",
       "    }\n",
       "</style>\n",
       "<table border=\"1\" class=\"dataframe\">\n",
       "  <thead>\n",
       "    <tr style=\"text-align: right;\">\n",
       "      <th></th>\n",
       "      <th>name</th>\n",
       "      <th>population</th>\n",
       "      <th>city</th>\n",
       "    </tr>\n",
       "  </thead>\n",
       "  <tbody>\n",
       "    <tr>\n",
       "      <th>0</th>\n",
       "      <td>中正區</td>\n",
       "      <td>159598</td>\n",
       "      <td>台北市</td>\n",
       "    </tr>\n",
       "  </tbody>\n",
       "</table>\n",
       "</div>"
      ],
      "text/plain": [
       "  name  population city\n",
       "0  中正區      159598  台北市"
      ]
     },
     "execution_count": 5,
     "metadata": {},
     "output_type": "execute_result"
    }
   ],
   "source": [
    "df = pd.read_csv(\"dists.csv\", encoding=\"utf8\")\n",
    "df =df[df.index == 0] # 印出索引第0筆資料\n",
    "df"
   ]
  },
  {
   "cell_type": "code",
   "execution_count": 6,
   "metadata": {},
   "outputs": [
    {
     "data": {
      "text/html": [
       "<div>\n",
       "<style scoped>\n",
       "    .dataframe tbody tr th:only-of-type {\n",
       "        vertical-align: middle;\n",
       "    }\n",
       "\n",
       "    .dataframe tbody tr th {\n",
       "        vertical-align: top;\n",
       "    }\n",
       "\n",
       "    .dataframe thead th {\n",
       "        text-align: right;\n",
       "    }\n",
       "</style>\n",
       "<table border=\"1\" class=\"dataframe\">\n",
       "  <thead>\n",
       "    <tr style=\"text-align: right;\">\n",
       "      <th></th>\n",
       "      <th>name</th>\n",
       "      <th>population</th>\n",
       "      <th>city</th>\n",
       "    </tr>\n",
       "  </thead>\n",
       "  <tbody>\n",
       "    <tr>\n",
       "      <th>0</th>\n",
       "      <td>中正區</td>\n",
       "      <td>159598</td>\n",
       "      <td>台北市</td>\n",
       "    </tr>\n",
       "    <tr>\n",
       "      <th>1</th>\n",
       "      <td>板橋區</td>\n",
       "      <td>551452</td>\n",
       "      <td>新北市</td>\n",
       "    </tr>\n",
       "    <tr>\n",
       "      <th>2</th>\n",
       "      <td>桃園區</td>\n",
       "      <td>441287</td>\n",
       "      <td>桃園市</td>\n",
       "    </tr>\n",
       "    <tr>\n",
       "      <th>3</th>\n",
       "      <td>北屯區</td>\n",
       "      <td>275207</td>\n",
       "      <td>台中市</td>\n",
       "    </tr>\n",
       "    <tr>\n",
       "      <th>4</th>\n",
       "      <td>安南區</td>\n",
       "      <td>192327</td>\n",
       "      <td>台南市</td>\n",
       "    </tr>\n",
       "    <tr>\n",
       "      <th>5</th>\n",
       "      <td>三民區</td>\n",
       "      <td>343203</td>\n",
       "      <td>高雄市</td>\n",
       "    </tr>\n",
       "    <tr>\n",
       "      <th>6</th>\n",
       "      <td>大安區</td>\n",
       "      <td>309835</td>\n",
       "      <td>台北市</td>\n",
       "    </tr>\n",
       "    <tr>\n",
       "      <th>7</th>\n",
       "      <td>永和區</td>\n",
       "      <td>222531</td>\n",
       "      <td>新北市</td>\n",
       "    </tr>\n",
       "    <tr>\n",
       "      <th>8</th>\n",
       "      <td>八德區</td>\n",
       "      <td>198473</td>\n",
       "      <td>桃園市</td>\n",
       "    </tr>\n",
       "    <tr>\n",
       "      <th>9</th>\n",
       "      <td>前鎮區</td>\n",
       "      <td>189623</td>\n",
       "      <td>高雄市</td>\n",
       "    </tr>\n",
       "    <tr>\n",
       "      <th>10</th>\n",
       "      <td>鳳山區</td>\n",
       "      <td>359125</td>\n",
       "      <td>高雄市</td>\n",
       "    </tr>\n",
       "    <tr>\n",
       "      <th>11</th>\n",
       "      <td>信義區</td>\n",
       "      <td>225561</td>\n",
       "      <td>台北市</td>\n",
       "    </tr>\n",
       "    <tr>\n",
       "      <th>12</th>\n",
       "      <td>新店區</td>\n",
       "      <td>302070</td>\n",
       "      <td>新北市</td>\n",
       "    </tr>\n",
       "  </tbody>\n",
       "</table>\n",
       "</div>"
      ],
      "text/plain": [
       "   name  population city\n",
       "0   中正區      159598  台北市\n",
       "1   板橋區      551452  新北市\n",
       "2   桃園區      441287  桃園市\n",
       "3   北屯區      275207  台中市\n",
       "4   安南區      192327  台南市\n",
       "5   三民區      343203  高雄市\n",
       "6   大安區      309835  台北市\n",
       "7   永和區      222531  新北市\n",
       "8   八德區      198473  桃園市\n",
       "9   前鎮區      189623  高雄市\n",
       "10  鳳山區      359125  高雄市\n",
       "11  信義區      225561  台北市\n",
       "12  新店區      302070  新北市"
      ]
     },
     "execution_count": 6,
     "metadata": {},
     "output_type": "execute_result"
    }
   ],
   "source": [
    "df = pd.read_csv(\"dists.csv\", encoding=\"utf8\")\n",
    "df"
   ]
  },
  {
   "cell_type": "code",
   "execution_count": 7,
   "metadata": {},
   "outputs": [
    {
     "data": {
      "text/html": [
       "<div>\n",
       "<style scoped>\n",
       "    .dataframe tbody tr th:only-of-type {\n",
       "        vertical-align: middle;\n",
       "    }\n",
       "\n",
       "    .dataframe tbody tr th {\n",
       "        vertical-align: top;\n",
       "    }\n",
       "\n",
       "    .dataframe thead th {\n",
       "        text-align: right;\n",
       "    }\n",
       "</style>\n",
       "<table border=\"1\" class=\"dataframe\">\n",
       "  <thead>\n",
       "    <tr style=\"text-align: right;\">\n",
       "      <th></th>\n",
       "      <th>name</th>\n",
       "      <th>population</th>\n",
       "      <th>city</th>\n",
       "    </tr>\n",
       "  </thead>\n",
       "  <tbody>\n",
       "    <tr>\n",
       "      <th>11</th>\n",
       "      <td>信義區</td>\n",
       "      <td>225561</td>\n",
       "      <td>台北市</td>\n",
       "    </tr>\n",
       "  </tbody>\n",
       "</table>\n",
       "</div>"
      ],
      "text/plain": [
       "   name  population city\n",
       "11  信義區      225561  台北市"
      ]
     },
     "execution_count": 7,
     "metadata": {},
     "output_type": "execute_result"
    }
   ],
   "source": [
    "df =df[df.values == '信義區']  # 用values來篩選出'信義區'的資料\n",
    "df"
   ]
  },
  {
   "cell_type": "code",
   "execution_count": 8,
   "metadata": {},
   "outputs": [
    {
     "data": {
      "text/plain": [
       "[0     中正區\n",
       " 1     板橋區\n",
       " 2     桃園區\n",
       " 3     北屯區\n",
       " 4     安南區\n",
       " 5     三民區\n",
       " 6     大安區\n",
       " 7     永和區\n",
       " 8     八德區\n",
       " 9     前鎮區\n",
       " 10    鳳山區\n",
       " 11    信義區\n",
       " 12    新店區\n",
       " Name: name, dtype: object]"
      ]
     },
     "execution_count": 8,
     "metadata": {},
     "output_type": "execute_result"
    }
   ],
   "source": [
    "df = pd.read_csv(\"dists.csv\", encoding=\"utf8\")\n",
    "df = [df['name']]  # 印出 name的column\n",
    "df"
   ]
  },
  {
   "cell_type": "code",
   "execution_count": 9,
   "metadata": {},
   "outputs": [
    {
     "data": {
      "text/html": [
       "<div>\n",
       "<style scoped>\n",
       "    .dataframe tbody tr th:only-of-type {\n",
       "        vertical-align: middle;\n",
       "    }\n",
       "\n",
       "    .dataframe tbody tr th {\n",
       "        vertical-align: top;\n",
       "    }\n",
       "\n",
       "    .dataframe thead th {\n",
       "        text-align: right;\n",
       "    }\n",
       "</style>\n",
       "<table border=\"1\" class=\"dataframe\">\n",
       "  <thead>\n",
       "    <tr style=\"text-align: right;\">\n",
       "      <th></th>\n",
       "      <th>population</th>\n",
       "      <th>city</th>\n",
       "    </tr>\n",
       "  </thead>\n",
       "  <tbody>\n",
       "    <tr>\n",
       "      <th>0</th>\n",
       "      <td>159598</td>\n",
       "      <td>台北市</td>\n",
       "    </tr>\n",
       "  </tbody>\n",
       "</table>\n",
       "</div>"
      ],
      "text/plain": [
       "   population city\n",
       "0      159598  台北市"
      ]
     },
     "execution_count": 9,
     "metadata": {},
     "output_type": "execute_result"
    }
   ],
   "source": [
    "df = pd.read_csv(\"dists.csv\", encoding=\"utf8\")\n",
    "df.loc[[0],['population','city']]  # 以索引及欄位'名稱'取得資料  印出第0行的population與city"
   ]
  },
  {
   "cell_type": "code",
   "execution_count": 10,
   "metadata": {},
   "outputs": [
    {
     "data": {
      "text/html": [
       "<div>\n",
       "<style scoped>\n",
       "    .dataframe tbody tr th:only-of-type {\n",
       "        vertical-align: middle;\n",
       "    }\n",
       "\n",
       "    .dataframe tbody tr th {\n",
       "        vertical-align: top;\n",
       "    }\n",
       "\n",
       "    .dataframe thead th {\n",
       "        text-align: right;\n",
       "    }\n",
       "</style>\n",
       "<table border=\"1\" class=\"dataframe\">\n",
       "  <thead>\n",
       "    <tr style=\"text-align: right;\">\n",
       "      <th></th>\n",
       "      <th>name</th>\n",
       "      <th>population</th>\n",
       "    </tr>\n",
       "  </thead>\n",
       "  <tbody>\n",
       "    <tr>\n",
       "      <th>0</th>\n",
       "      <td>中正區</td>\n",
       "      <td>159598</td>\n",
       "    </tr>\n",
       "    <tr>\n",
       "      <th>1</th>\n",
       "      <td>板橋區</td>\n",
       "      <td>551452</td>\n",
       "    </tr>\n",
       "    <tr>\n",
       "      <th>2</th>\n",
       "      <td>桃園區</td>\n",
       "      <td>441287</td>\n",
       "    </tr>\n",
       "    <tr>\n",
       "      <th>3</th>\n",
       "      <td>北屯區</td>\n",
       "      <td>275207</td>\n",
       "    </tr>\n",
       "    <tr>\n",
       "      <th>4</th>\n",
       "      <td>安南區</td>\n",
       "      <td>192327</td>\n",
       "    </tr>\n",
       "  </tbody>\n",
       "</table>\n",
       "</div>"
      ],
      "text/plain": [
       "  name  population\n",
       "0  中正區      159598\n",
       "1  板橋區      551452\n",
       "2  桃園區      441287\n",
       "3  北屯區      275207\n",
       "4  安南區      192327"
      ]
     },
     "execution_count": 10,
     "metadata": {},
     "output_type": "execute_result"
    }
   ],
   "source": [
    "df = pd.read_csv(\"dists.csv\", encoding=\"utf8\")\n",
    "df.iloc[0:5,0:2]  # 以索引及欄位'編號'取得資料 前5rows 的 前2columns"
   ]
  },
  {
   "cell_type": "code",
   "execution_count": 11,
   "metadata": {},
   "outputs": [
    {
     "data": {
      "text/html": [
       "<div>\n",
       "<style scoped>\n",
       "    .dataframe tbody tr th:only-of-type {\n",
       "        vertical-align: middle;\n",
       "    }\n",
       "\n",
       "    .dataframe tbody tr th {\n",
       "        vertical-align: top;\n",
       "    }\n",
       "\n",
       "    .dataframe thead th {\n",
       "        text-align: right;\n",
       "    }\n",
       "</style>\n",
       "<table border=\"1\" class=\"dataframe\">\n",
       "  <thead>\n",
       "    <tr style=\"text-align: right;\">\n",
       "      <th></th>\n",
       "      <th>name</th>\n",
       "      <th>city</th>\n",
       "    </tr>\n",
       "  </thead>\n",
       "  <tbody>\n",
       "    <tr>\n",
       "      <th>1</th>\n",
       "      <td>板橋區</td>\n",
       "      <td>新北市</td>\n",
       "    </tr>\n",
       "    <tr>\n",
       "      <th>2</th>\n",
       "      <td>桃園區</td>\n",
       "      <td>桃園市</td>\n",
       "    </tr>\n",
       "    <tr>\n",
       "      <th>4</th>\n",
       "      <td>安南區</td>\n",
       "      <td>台南市</td>\n",
       "    </tr>\n",
       "  </tbody>\n",
       "</table>\n",
       "</div>"
      ],
      "text/plain": [
       "  name city\n",
       "1  板橋區  新北市\n",
       "2  桃園區  桃園市\n",
       "4  安南區  台南市"
      ]
     },
     "execution_count": 11,
     "metadata": {},
     "output_type": "execute_result"
    }
   ],
   "source": [
    "df = pd.read_csv(\"dists.csv\", encoding=\"utf8\")\n",
    "df.iloc[[1,2,4],[0,2]]  #以索引及欄位 '編號' name,city，取出第1、2、4行的資料"
   ]
  },
  {
   "cell_type": "code",
   "execution_count": 12,
   "metadata": {},
   "outputs": [
    {
     "name": "stdout",
     "output_type": "stream",
     "text": [
      "0 台北市 中正區 159598\n",
      "1 新北市 板橋區 551452\n",
      "2 桃園市 桃園區 441287\n",
      "3 台中市 北屯區 275207\n",
      "4 台南市 安南區 192327\n",
      "5 高雄市 三民區 343203\n",
      "6 台北市 大安區 309835\n",
      "7 新北市 永和區 222531\n",
      "8 桃園市 八德區 198473\n",
      "9 高雄市 前鎮區 189623\n",
      "10 高雄市 鳳山區 359125\n",
      "11 台北市 信義區 225561\n",
      "12 新北市 新店區 302070\n"
     ]
    }
   ],
   "source": [
    "# 用 iterrows() 方法 ,for loop迭代DataFrame的每一行\n",
    "for index, row in df.iterrows() :\n",
    "    print(index, row[\"city\"], row[\"name\"], row[\"population\"])"
   ]
  },
  {
   "cell_type": "code",
   "execution_count": 13,
   "metadata": {},
   "outputs": [
    {
     "data": {
      "text/plain": [
       "159598"
      ]
     },
     "execution_count": 13,
     "metadata": {},
     "output_type": "execute_result"
    }
   ],
   "source": [
    "df = pd.read_csv(\"dists.csv\", encoding=\"utf8\")\n",
    "df.iat[0,1]  # 用 iat 只能取得單行取得 台北市中正區的距離"
   ]
  },
  {
   "cell_type": "code",
   "execution_count": 16,
   "metadata": {},
   "outputs": [
    {
     "data": {
      "text/html": [
       "<div>\n",
       "<style scoped>\n",
       "    .dataframe tbody tr th:only-of-type {\n",
       "        vertical-align: middle;\n",
       "    }\n",
       "\n",
       "    .dataframe tbody tr th {\n",
       "        vertical-align: top;\n",
       "    }\n",
       "\n",
       "    .dataframe thead th {\n",
       "        text-align: right;\n",
       "    }\n",
       "</style>\n",
       "<table border=\"1\" class=\"dataframe\">\n",
       "  <thead>\n",
       "    <tr style=\"text-align: right;\">\n",
       "      <th></th>\n",
       "      <th>name</th>\n",
       "      <th>population</th>\n",
       "      <th>city</th>\n",
       "    </tr>\n",
       "  </thead>\n",
       "  <tbody>\n",
       "    <tr>\n",
       "      <th>零</th>\n",
       "      <td>中正區</td>\n",
       "      <td>159598</td>\n",
       "      <td>台北市</td>\n",
       "    </tr>\n",
       "    <tr>\n",
       "      <th>一</th>\n",
       "      <td>板橋區</td>\n",
       "      <td>551452</td>\n",
       "      <td>新北市</td>\n",
       "    </tr>\n",
       "    <tr>\n",
       "      <th>二</th>\n",
       "      <td>桃園區</td>\n",
       "      <td>441287</td>\n",
       "      <td>桃園市</td>\n",
       "    </tr>\n",
       "    <tr>\n",
       "      <th>三</th>\n",
       "      <td>北屯區</td>\n",
       "      <td>275207</td>\n",
       "      <td>台中市</td>\n",
       "    </tr>\n",
       "    <tr>\n",
       "      <th>四</th>\n",
       "      <td>安南區</td>\n",
       "      <td>192327</td>\n",
       "      <td>台南市</td>\n",
       "    </tr>\n",
       "    <tr>\n",
       "      <th>五</th>\n",
       "      <td>三民區</td>\n",
       "      <td>343203</td>\n",
       "      <td>高雄市</td>\n",
       "    </tr>\n",
       "    <tr>\n",
       "      <th>六</th>\n",
       "      <td>大安區</td>\n",
       "      <td>309835</td>\n",
       "      <td>台北市</td>\n",
       "    </tr>\n",
       "    <tr>\n",
       "      <th>七</th>\n",
       "      <td>永和區</td>\n",
       "      <td>222531</td>\n",
       "      <td>新北市</td>\n",
       "    </tr>\n",
       "    <tr>\n",
       "      <th>八</th>\n",
       "      <td>八德區</td>\n",
       "      <td>198473</td>\n",
       "      <td>桃園市</td>\n",
       "    </tr>\n",
       "    <tr>\n",
       "      <th>九</th>\n",
       "      <td>前鎮區</td>\n",
       "      <td>189623</td>\n",
       "      <td>高雄市</td>\n",
       "    </tr>\n",
       "    <tr>\n",
       "      <th>十</th>\n",
       "      <td>鳳山區</td>\n",
       "      <td>359125</td>\n",
       "      <td>高雄市</td>\n",
       "    </tr>\n",
       "    <tr>\n",
       "      <th>十一</th>\n",
       "      <td>信義區</td>\n",
       "      <td>225561</td>\n",
       "      <td>台北市</td>\n",
       "    </tr>\n",
       "    <tr>\n",
       "      <th>十二</th>\n",
       "      <td>新店區</td>\n",
       "      <td>302070</td>\n",
       "      <td>新北市</td>\n",
       "    </tr>\n",
       "  </tbody>\n",
       "</table>\n",
       "</div>"
      ],
      "text/plain": [
       "   name  population city\n",
       "零   中正區      159598  台北市\n",
       "一   板橋區      551452  新北市\n",
       "二   桃園區      441287  桃園市\n",
       "三   北屯區      275207  台中市\n",
       "四   安南區      192327  台南市\n",
       "五   三民區      343203  高雄市\n",
       "六   大安區      309835  台北市\n",
       "七   永和區      222531  新北市\n",
       "八   八德區      198473  桃園市\n",
       "九   前鎮區      189623  高雄市\n",
       "十   鳳山區      359125  高雄市\n",
       "十一  信義區      225561  台北市\n",
       "十二  新店區      302070  新北市"
      ]
     },
     "execution_count": 16,
     "metadata": {},
     "output_type": "execute_result"
    }
   ],
   "source": [
    "df = pd.read_csv(\"dists.csv\", encoding=\"utf8\")\n",
    "df.at[0,'population']\n",
    "labels = ['零', '一', '二', '三', '四', '五', '六', '七', '八', '九', '十', '十一', '十二']\n",
    "df.index = labels\n",
    "df"
   ]
  },
  {
   "cell_type": "code",
   "execution_count": 15,
   "metadata": {},
   "outputs": [
    {
     "data": {
      "text/plain": [
       "'台北市'"
      ]
     },
     "execution_count": 15,
     "metadata": {},
     "output_type": "execute_result"
    }
   ],
   "source": [
    "df = pd.read_csv(\"dists.csv\", encoding=\"utf8\")\n",
    "df.at[0,'city'] # df.at[label, column] 只能取得一個值 取得第0行的population值 標籤必須是數字"
   ]
  }
 ],
 "metadata": {
  "kernelspec": {
   "display_name": "ai_project",
   "language": "python",
   "name": "ai_project"
  },
  "language_info": {
   "codemirror_mode": {
    "name": "ipython",
    "version": 3
   },
   "file_extension": ".py",
   "mimetype": "text/x-python",
   "name": "python",
   "nbconvert_exporter": "python",
   "pygments_lexer": "ipython3",
   "version": "3.8.18"
  }
 },
 "nbformat": 4,
 "nbformat_minor": 2
}
