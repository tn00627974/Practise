{
 "cells": [
  {
   "cell_type": "code",
   "execution_count": 1,
   "metadata": {},
   "outputs": [
    {
     "name": "stdout",
     "output_type": "stream",
     "text": [
      "   name  population city\n",
      "0   中正區      159598  台北市\n",
      "1   板橋區      551452  新北市\n",
      "2   桃園區      441287  桃園市\n",
      "3   北屯區      275207  台中市\n",
      "4   安南區      192327  台南市\n",
      "5   三民區      343203  高雄市\n",
      "6   大安區      309835  台北市\n",
      "7   永和區      222531  新北市\n",
      "8   八德區      198473  桃園市\n",
      "9   前鎮區      189623  高雄市\n",
      "10  鳳山區      359125  高雄市\n",
      "11  信義區      225561  台北市\n",
      "12  新店區      302070  新北市\n"
     ]
    }
   ],
   "source": [
    "import pandas as pd\n",
    "\n",
    "dists = {\"name\": [\"中正區\", \"板橋區\", \"桃園區\", \"北屯區\", \n",
    "                   \"安南區\", \"三民區\", \"大安區\", \"永和區\", \n",
    "                   \"八德區\", \"前鎮區\", \"鳳山區\", \n",
    "                   \"信義區\", \"新店區\"],\n",
    "         \"population\": [159598, 551452, 441287, 275207,\n",
    "                        192327, 343203, 309835, 222531,\n",
    "                        198473, 189623, 359125, \n",
    "                        225561, 302070],\n",
    "         \"city\": [\"台北市\", \"新北市\", \"桃園市\", \"台中市\",\n",
    "                  \"台南市\", \"高雄市\", \"台北市\", \"新北市\",\n",
    "                  \"桃園市\", \"高雄市\", \"高雄市\",\n",
    "                  \"台北市\", \"新北市\"]}\n",
    "df = pd.DataFrame(dists) \n",
    "print(df)\n",
    "df.to_html(\"ch8-2-1.html\")"
   ]
  }
 ],
 "metadata": {
  "kernelspec": {
   "display_name": "ai_project",
   "language": "python",
   "name": "ai_project"
  },
  "language_info": {
   "codemirror_mode": {
    "name": "ipython",
    "version": 3
   },
   "file_extension": ".py",
   "mimetype": "text/x-python",
   "name": "python",
   "nbconvert_exporter": "python",
   "pygments_lexer": "ipython3",
   "version": "3.8.18"
  }
 },
 "nbformat": 4,
 "nbformat_minor": 2
}
