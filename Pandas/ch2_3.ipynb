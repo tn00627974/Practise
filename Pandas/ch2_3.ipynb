{
 "cells": [
  {
   "cell_type": "code",
   "execution_count": 76,
   "metadata": {},
   "outputs": [
    {
     "name": "stdout",
     "output_type": "stream",
     "text": [
      "           name city  population\n",
      "first       中正區  台北市      159598\n",
      "second      板橋區  新北市      551452\n",
      "third       桃園區  桃園市      441287\n",
      "fourth      北屯區  台中市      275207\n",
      "fifth       安南區  台南市      192327\n",
      "sixth       三民區  高雄市      343203\n",
      "seventh     大安區  台北市      309835\n",
      "eigth       永和區  新北市      222531\n",
      "ninth       八德區  桃園市      198473\n",
      "tenth       前鎮區  高雄市      189623\n",
      "eleventh    鳳山區  高雄市      359125\n",
      "twelvth     信義區  台北市      225561\n",
      "thirteenth  新店區  新北市      302070\n",
      "---------------------------\n",
      "           name    city population\n",
      "first       中正區  159598        台北市\n",
      "second      板橋區  551452        新北市\n",
      "third       桃園區  441287        桃園市\n",
      "fourth      北屯區  275207        台中市\n",
      "fifth       安南區  192327        台南市\n",
      "sixth       三民區  343203        高雄市\n",
      "seventh     大安區  309835        台北市\n",
      "eigth       永和區  222531        新北市\n",
      "ninth       八德區  198473        桃園市\n",
      "tenth       前鎮區  189623        高雄市\n",
      "eleventh    鳳山區  359125        高雄市\n",
      "twelvth     信義區  225561        台北市\n",
      "thirteenth  新店區  302070        新北市\n"
     ]
    }
   ],
   "source": [
    "import pandas as pd\n",
    "\n",
    "dists = {\"name\": [\"中正區\", \"板橋區\", \"桃園區\", \"北屯區\", \n",
    "                   \"安南區\", \"三民區\", \"大安區\", \"永和區\", \n",
    "                   \"八德區\", \"前鎮區\", \"鳳山區\", \n",
    "                   \"信義區\", \"新店區\"],\n",
    "         \"population\": [159598, 551452, 441287, 275207,\n",
    "                        192327, 343203, 309835, 222531,\n",
    "                        198473, 189623, 359125, \n",
    "                        225561, 302070],\n",
    "         \"city\": [\"台北市\", \"新北市\", \"桃園市\", \"台中市\",\n",
    "                  \"台南市\", \"高雄市\", \"台北市\", \"新北市\",\n",
    "                  \"桃園市\", \"高雄市\", \"高雄市\",\n",
    "                  \"台北市\", \"新北市\"]}\n",
    "         \n",
    "ordinals =[\"first\", \"second\", \"third\", \"fourth\", \"fifth\",\n",
    "           \"sixth\", \"seventh\", \"eigth\", \"ninth\", \"tenth\",\n",
    "           \"eleventh\", \"twelvth\", \"thirteenth\"]         \n",
    "df = pd.DataFrame(dists, \n",
    "                  columns = [\"name\", \"city\", \"population\"],\n",
    "                  index=ordinals) \n",
    "\n",
    "df\n",
    "print(df)\n",
    "df.to_html(\"ch2-3.html\")  \n",
    "print(\"---------------------------\")\n",
    "df2 = pd.DataFrame(dists, index=ordinals)\n",
    "df2.columns = [\"name\", \"city\", \"population\"]\n",
    "print(df2) \n",
    "\n"
   ]
  },
  {
   "cell_type": "code",
   "execution_count": 74,
   "metadata": {},
   "outputs": [
    {
     "data": {
      "text/html": [
       "<div>\n",
       "<style scoped>\n",
       "    .dataframe tbody tr th:only-of-type {\n",
       "        vertical-align: middle;\n",
       "    }\n",
       "\n",
       "    .dataframe tbody tr th {\n",
       "        vertical-align: top;\n",
       "    }\n",
       "\n",
       "    .dataframe thead th {\n",
       "        text-align: right;\n",
       "    }\n",
       "</style>\n",
       "<table border=\"1\" class=\"dataframe\">\n",
       "  <thead>\n",
       "    <tr style=\"text-align: right;\">\n",
       "      <th></th>\n",
       "      <th>name</th>\n",
       "      <th>city</th>\n",
       "    </tr>\n",
       "  </thead>\n",
       "  <tbody>\n",
       "    <tr>\n",
       "      <th>100000</th>\n",
       "      <td>七堵</td>\n",
       "      <td>基隆市</td>\n",
       "    </tr>\n",
       "    <tr>\n",
       "      <th>200000</th>\n",
       "      <td>大安</td>\n",
       "      <td>台北市</td>\n",
       "    </tr>\n",
       "    <tr>\n",
       "      <th>300000</th>\n",
       "      <td>松山</td>\n",
       "      <td>台北市</td>\n",
       "    </tr>\n",
       "  </tbody>\n",
       "</table>\n",
       "</div>"
      ],
      "text/plain": [
       "       name city\n",
       "100000   七堵  基隆市\n",
       "200000   大安  台北市\n",
       "300000   松山  台北市"
      ]
     },
     "execution_count": 74,
     "metadata": {},
     "output_type": "execute_result"
    }
   ],
   "source": [
    "# 給我台北市的所有區域的資料\n",
    "dists = {'name':['信義區','大安區','松山區'],\n",
    "         'city':['台北市','台北市','台北市'],\n",
    "         }\n",
    "\n",
    "number = [100000, 200000, 300000] \n",
    "\n",
    "dists['name'][0] = '七堵區' \n",
    "dists['city'][0] = '基隆市' \n",
    "dists['name'] = [name.replace('區','')for name in dists['name']] #刪除區字\n",
    "df =pd.DataFrame(dists, index=number)   \n",
    "df"
   ]
  },
  {
   "cell_type": "code",
   "execution_count": 75,
   "metadata": {},
   "outputs": [
    {
     "data": {
      "text/html": [
       "<div>\n",
       "<style scoped>\n",
       "    .dataframe tbody tr th:only-of-type {\n",
       "        vertical-align: middle;\n",
       "    }\n",
       "\n",
       "    .dataframe tbody tr th {\n",
       "        vertical-align: top;\n",
       "    }\n",
       "\n",
       "    .dataframe thead th {\n",
       "        text-align: right;\n",
       "    }\n",
       "</style>\n",
       "<table border=\"1\" class=\"dataframe\">\n",
       "  <thead>\n",
       "    <tr style=\"text-align: right;\">\n",
       "      <th></th>\n",
       "      <th>name</th>\n",
       "      <th>city</th>\n",
       "    </tr>\n",
       "  </thead>\n",
       "  <tbody>\n",
       "    <tr>\n",
       "      <th>100000</th>\n",
       "      <td>七堵區</td>\n",
       "      <td>基隆市</td>\n",
       "    </tr>\n",
       "    <tr>\n",
       "      <th>200000</th>\n",
       "      <td>大安區</td>\n",
       "      <td>台北市</td>\n",
       "    </tr>\n",
       "    <tr>\n",
       "      <th>300000</th>\n",
       "      <td>松山區</td>\n",
       "      <td>台北市</td>\n",
       "    </tr>\n",
       "  </tbody>\n",
       "</table>\n",
       "</div>"
      ],
      "text/plain": [
       "       name city\n",
       "100000  七堵區  基隆市\n",
       "200000  大安區  台北市\n",
       "300000  松山區  台北市"
      ]
     },
     "execution_count": 75,
     "metadata": {},
     "output_type": "execute_result"
    }
   ],
   "source": [
    "dists['name'] = [name+'區' for name in dists['name']]\n",
    "df =pd.DataFrame(dists, index=number)   \n",
    "df"
   ]
  }
 ],
 "metadata": {
  "kernelspec": {
   "display_name": "ai_project",
   "language": "python",
   "name": "ai_project"
  },
  "language_info": {
   "codemirror_mode": {
    "name": "ipython",
    "version": 3
   },
   "file_extension": ".py",
   "mimetype": "text/x-python",
   "name": "python",
   "nbconvert_exporter": "python",
   "pygments_lexer": "ipython3",
   "version": "3.8.18"
  }
 },
 "nbformat": 4,
 "nbformat_minor": 2
}
